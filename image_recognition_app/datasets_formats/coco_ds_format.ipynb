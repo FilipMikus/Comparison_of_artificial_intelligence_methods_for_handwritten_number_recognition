{
 "cells": [
  {
   "cell_type": "markdown",
   "metadata": {
    "pycharm": {
     "name": "#%% md\n"
    }
   },
   "source": [
    "# Analýza formátu datasetu COCO\n",
    "COCO (Common Objects in Context) je referečný dataset určený na trénovanie a validáciu detekčných a segmnetačných algorytmov počítačového videnia. Dataset obsahuje 328 000 obrázkov, 80 kategórii objektov a 1 500 000 ich inštancíí. Formát datasetu sa stal štandardom pre väčšinu algorytmov počítačového videnia a datasetov určených na ich trénovanie. Jeho autorom je COCO konzorcium."
   ]
  },
  {
   "cell_type": "markdown",
   "metadata": {
    "pycharm": {
     "name": "#%% md\n"
    }
   },
   "source": [
    "<img src=\"jupyter_lab_images/coco_img1.png\" style=\"width: 600px; height: 400px\">"
   ]
  },
  {
   "cell_type": "markdown",
   "metadata": {
    "tags": [],
    "pycharm": {
     "name": "#%% md\n"
    }
   },
   "source": [
    "---\n",
    "## COCO formát:\n",
    "Formát datasetu COCO sa stal štandardom pre väčšinu algorytmov počítačového videnia. Dataset obsahuje samotné dáta a informácie o dátach (obrázkoch) datasetu sú uchované v špecifickej JSON štruktúre. JSON štruktúra určuje ako sa ukladajú štítky (label) a metadáta pre množinu obrázkov konkrétneho datasetu.\n",
    "\n",
    "Priečinok datasetu COCO formátu má nasledovnú štruktúru:"
   ]
  },
  {
   "cell_type": "markdown",
   "metadata": {
    "pycharm": {
     "name": "#%% md\n"
    }
   },
   "source": [
    "```\n",
    "dataset\n",
    "│   labels.json\n",
    "│\n",
    "└───data\n",
    "      file01.ext\n",
    "      file02.ext\n",
    "      ...\n",
    "```"
   ]
  },
  {
   "cell_type": "markdown",
   "metadata": {
    "tags": [],
    "pycharm": {
     "name": "#%% md\n"
    }
   },
   "source": [
    "---\n",
    "## JSON štruktúra:\n",
    "JSON štruktúra datasetu vo formáte COCO pozostáva z nasledujúcich __elemetov__:\n",
    "* __<span style=\"color: blue;\">info </span>__ __(voliteľný):__\n",
    "Popis a informácie o verzií datasetu.\n",
    "* __<span style=\"color: blue;\">licenses </span>__ __(voliteľný):__\n",
    "Zoznam licenčných informácii pre obrázky zahrnuté v datasete.\n",
    "* __<span style=\"color: blue;\">categories </span>__ __(povinný):__\n",
    "Zoznam tried, do ktorých sú detekované objekty klasifikované a ich metadát ako jedinečné id triedy, meno alebo voliteľná nad-trieda.\n",
    "* __<span style=\"color: blue;\">images </span>__ __(povinný):__\n",
    "Zoznam obrázkov datasetu a ich metadát ako jedinečné id obrázka, cesta k súboru, šírka, výška a iné. \n",
    "* __<span style=\"color: blue;\">annotations </span>__ __(povinný):__\n",
    "Zoznam anotácii objektov so svojim jedinečným id, id obrázka, na ktorom sa daný objekt nachádza, údaj, informácie ohraničení objektu pre detekciu a segmentáciu a iné."
   ]
  },
  {
   "cell_type": "markdown",
   "metadata": {
    "pycharm": {
     "name": "#%% md\n"
    }
   },
   "source": [
    "```json\n",
    "{\n",
    "    \"info\": {\n",
    "        \"year\": \"2021\",\n",
    "        \"version\": \"1.0\",\n",
    "        \"description\": \"Exported from FiftyOne\",\n",
    "        \"contributor\": \"Voxel51\",\n",
    "        \"url\": \"https://fiftyone.ai\",\n",
    "        \"date_created\": \"2021-01-19T09:48:27\"\n",
    "    },\n",
    "    \"licenses\": [\n",
    "        {\n",
    "          \"url\": \"http://creativecommons.org/licenses/by-nc-sa/2.0/\",\n",
    "          \"id\": 1,\n",
    "          \"name\": \"Attribution-NonCommercial-ShareAlike License\"\n",
    "        },\n",
    "        ...   \n",
    "    ],\n",
    "    \"categories\": [\n",
    "        ...\n",
    "        {\n",
    "            \"id\": 2,\n",
    "            \"name\": \"cat\",\n",
    "            \"supercategory\": \"animal\"\n",
    "        },\n",
    "        ...\n",
    "    ],\n",
    "    \"images\": [\n",
    "        {\n",
    "            \"id\": 0,\n",
    "            \"license\": 1,\n",
    "            \"file_name\": \"file0.ext\",\n",
    "            \"coco_url\": \"http://images.cocodataset.org/val2017/nnnnnnnnnnnn.jpg\",\n",
    "            \"flickr_url\": \"http://farm1.staticflickr.com/88/nnnnnnnnnnnnnnnnnnn.jpg\",\n",
    "            \"height\": 480,\n",
    "            \"width\": 640,\n",
    "            \"date_captured\": null\n",
    "        },\n",
    "        ...\n",
    "    ],\n",
    "    \"annotations\": [\n",
    "        {\n",
    "            \"id\": 0,\n",
    "            \"image_id\": 0,\n",
    "            \"category_id\": 2,\n",
    "            \"bbox\": [260, 177, 231, 199],\n",
    "            \"segmentation\": [[34.5, 37.8, ...], ...],\n",
    "            \"area\": 45969,\n",
    "            \"iscrowd\": 0\n",
    "        },\n",
    "        ...\n",
    "    ]\n",
    "}\n",
    "```"
   ]
  },
  {
   "cell_type": "markdown",
   "metadata": {
    "tags": [],
    "pycharm": {
     "name": "#%% md\n"
    }
   },
   "source": [
    "---\n",
    "## info (voliteľný):\n",
    "Objekt obsahujúci informácie o datasete.\n",
    "* __<span style=\"color: blue;\">year </span>__ __(voliteľný):__\n",
    "Obsahuje ___rok___ poslednej úpravy datasetu. Dátový typ: ___string___.\n",
    "* __<span style=\"color: blue;\">version </span>__ __(voliteľný):__\n",
    "Obsahuje ___verziu___ datasetu. Dátový typ: ___string___.\n",
    "* __<span style=\"color: blue;\">description </span>__ __(voliteľný):__\n",
    "Obsahuje ___opis___ datasetu. Dátový typ: ___string___.\n",
    "* __<span style=\"color: blue;\">contributor </span>__ __(voliteľný):__\n",
    "Obsahuje ___prispievateľa___ datasetu. Dátový typ: ___string___.\n",
    "* __<span style=\"color: blue;\">url </span>__ __(voliteľný):__\n",
    "Obsahuje ___url___. Dátový typ: ___string___. \n",
    "* __<span style=\"color: blue;\">date_created </span>__ __(voliteľný):__\n",
    "Obsahuje ___dátum vytvorenia___ datasetu. Dátový typ: ___string___. "
   ]
  },
  {
   "cell_type": "markdown",
   "metadata": {
    "pycharm": {
     "name": "#%% md\n"
    }
   },
   "source": [
    "```json\n",
    "{\n",
    "    \"info\": {\n",
    "        \"year\": \"2021\",\n",
    "        \"version\": \"1.0\",\n",
    "        \"description\": \"Exported from FiftyOne\",\n",
    "        \"contributor\": \"Voxel51\",\n",
    "        \"url\": \"https://fiftyone.ai\",\n",
    "        \"date_created\": \"2021-01-19T09:48:27\"\n",
    "    },\n",
    "    ...\n",
    "}\n",
    "```"
   ]
  },
  {
   "cell_type": "markdown",
   "metadata": {
    "tags": [],
    "pycharm": {
     "name": "#%% md\n"
    }
   },
   "source": [
    "---\n",
    "## licenses (voliteľný):\n",
    "List objektov obsahujúcich informácie o licenciách.\n",
    "* __<span style=\"color: blue;\">url </span>__ __(voliteľný):__\n",
    "Obsahuje __url__ na popis licencie. Dátový typ: __string__.\n",
    "* __<span style=\"color: blue;\">id </span>__ __(povinný):__\n",
    "Obsahuje jedinečný číselný __identifikátor__ licencie. Dátový typ: __int__.\n",
    "* __<span style=\"color: blue;\">name </span>__ __(voliteľný):__\n",
    "Obsahuje __meno__ licencie. Dátový typ: __string__."
   ]
  },
  {
   "cell_type": "markdown",
   "metadata": {
    "pycharm": {
     "name": "#%% md\n"
    }
   },
   "source": [
    "```json\n",
    "{\n",
    "    \"licenses\": [\n",
    "        {\n",
    "          \"url\": \"http://creativecommons.org/licenses/by-nc-sa/2.0/\",\n",
    "          \"id\": 1,\n",
    "          \"name\": \"Attribution-NonCommercial-ShareAlike License\"\n",
    "        },\n",
    "        ...   \n",
    "    ],\n",
    "    ...\n",
    "}\n",
    "```"
   ]
  },
  {
   "cell_type": "markdown",
   "metadata": {
    "tags": [],
    "pycharm": {
     "name": "#%% md\n"
    }
   },
   "source": [
    "---\n",
    "## categories (__povinný__):\n",
    "List objektov obsahujúcich informácie o triedach, do ktorých sú objekty v datasete klasifikované.\n",
    "* __<span style=\"color: blue;\">id </span>__ __(povinný):__\n",
    "Obsahuje jedinečný číselný __identifikátor__ triedy. Dátový typ: __int__.\n",
    "* __<span style=\"color: blue;\">name </span>__ __(povinný):__\n",
    "Obsahuje __meno__ triedy. Dátový typ: __string__.\n",
    "* __<span style=\"color: blue;\">supercategory </span>__ __(voliteľný):__\n",
    "Obsahuje meno __nad-triedy__ triedy. Dátový typ: __string__."
   ]
  },
  {
   "cell_type": "markdown",
   "metadata": {
    "pycharm": {
     "name": "#%% md\n"
    }
   },
   "source": [
    "```json\n",
    "{\n",
    "    \"categories\": [\n",
    "        ...\n",
    "        {\n",
    "            \"id\": 2,\n",
    "            \"name\": \"cat\",\n",
    "            \"supercategory\": \"animal\"\n",
    "        },\n",
    "        ...\n",
    "    ],\n",
    "    ...\n",
    "}\n",
    "```"
   ]
  },
  {
   "cell_type": "markdown",
   "metadata": {
    "tags": [],
    "pycharm": {
     "name": "#%% md\n"
    }
   },
   "source": [
    "---\n",
    "## images (__povinný__):\n",
    "List objektov obsahujúcich informácie o obrázkoch v datasete.\n",
    "* __<span style=\"color: blue;\">id </span>__ __(povinný):__\n",
    "Obsahuje jedinečný číselný __identifikátor__ obrázku. Dátový typ: __int__.\n",
    "* __<span style=\"color: blue;\">license </span>__ __(voliteľný):__\n",
    "Obsahuje číselný __identifikátor licencie__, ktorá zodpovedá obrázku. Dátový typ: __int__.\n",
    "* __<span style=\"color: blue;\">file_name </span>__ __(povinný):__\n",
    "Obsahuje __názov obrázku__/__cestu k obrázku__. Dátový typ: __string__.\n",
    "* __<span style=\"color: blue;\">coco_url </span>__ __(voliteľný):__\n",
    "Obsahuje __url stránky coco dasetu__. Dátový typ: __string__. (Len v pôvodnom COCO datasete.)\n",
    "* __<span style=\"color: blue;\">flickr_url </span>__ __(voliteľný):__\n",
    "Obsahuje __url na stránku flickr__ s obrázkom. Dátový typ: __string__. (Len v pôvodnom COCO datasete.)\n",
    "* __<span style=\"color: blue;\">height </span>__ __(povinný):__\n",
    "Obsahuje __výšku__ obrázka. Dátový typ: __int__. \n",
    "* __<span style=\"color: blue;\">width </span>__ __(povinný):__\n",
    "Obsahuje __šírku__ obrázka. Dátový typ: __int__. \n",
    "* __<span style=\"color: blue;\">date_captured </span>__ __(povinný):__\n",
    "Obsahuje __dátum a čas__ zachytenia obrázka. Dátový typ: __string__. "
   ]
  },
  {
   "cell_type": "markdown",
   "metadata": {
    "pycharm": {
     "name": "#%% md\n"
    }
   },
   "source": [
    "```json\n",
    "{\n",
    "    \"images\": [\n",
    "        {\n",
    "            \"id\": 0,\n",
    "            \"license\": 1,\n",
    "            \"file_name\": \"file0.ext\",\n",
    "            \"coco_url\": \"http://images.cocodataset.org/val2017/nnnnnnnnnnnn.jpg\",\n",
    "            \"flickr_url\": \"http://farm1.staticflickr.com/88/nnnnnnnnnnnnnnnnnnn.jpg\",\n",
    "            \"height\": 480,\n",
    "            \"width\": 640,\n",
    "            \"date_captured\": null\n",
    "        },\n",
    "        ...\n",
    "    ],\n",
    "    ...\n",
    "}\n",
    "```"
   ]
  },
  {
   "cell_type": "markdown",
   "metadata": {
    "tags": [],
    "pycharm": {
     "name": "#%% md\n"
    }
   },
   "source": [
    "---\n",
    "## annotations (__povinný__):\n",
    "List objektov anotácii tried na obrázkoch. Priradzuje objektom triedu, obrázok na ktorom sa nachádazú a časť, ktorú objekty na obrázku zaoberajú.\n",
    "* __<span style=\"color: blue;\">id </span>__ __(voliteľný):__\n",
    "Obsahuje jedinečný číselný __identifikátor__ obrázku. Dátový typ: __int__.\n",
    "* __<span style=\"color: blue;\">image_id </span>__ __(povinný):__\n",
    "Obsahuje číselný __identifikátor obrázku__, na ktorý sa viaže anotácia. Dátový typ: __int__.\n",
    "* __<span style=\"color: blue;\">category_id </span>__ __(povinný):__\n",
    "Obsahuje číselný __identifikátor triedy__, na ktorý sa viaže anotácia. Dátový typ: __int__.\n",
    "* __<span style=\"color: blue;\">bbox </span>__ __(povinný):__\n",
    "Obsahuje zoznam __x-ovej__ a __y-ovej súradnice__ začiatku boxu a jeho __šírku__ a __výšku__ (__[x-začiatok, y-začiatok, šírka, výška]__). Dátový typ: __list[float, float, float, float]__.\n",
    "* __<span style=\"color: blue;\">segmentation </span>__ __(voliteľný):__\n",
    "Obsahuje zoznam zoznamov pixelov tvoriacich polygón/y (__[[x-ová súradnica, y-ová súradnica, ...], ...]__), ktorý/é tvoria masku segmentovaného objektu. Alternatívou tejto štruktúry uchovania masky objektu je RLE (Run Length Encoding). Dátový typ: __list[list[float, float, ...], ...]__.  __(Povinný element pri trénovaní segmentačných algorytmov!)__\n",
    "* __<span style=\"color: blue;\">area </span>__ __(voliteľný):__\n",
    "Obsahuje __veľkosť plochy__, ktorú objekt zaberá. Dátový typ: __float__. \n",
    "* __<span style=\"color: blue;\">iscrowd </span>__ __(voliteľný):__\n",
    "Obsahuje informáciu, či je v ohraničenom boxe __samostatný objekt__ (0) alebo __skupina (dav) objektov__ (1) jednej triedy. Dátový typ: __int__."
   ]
  },
  {
   "cell_type": "markdown",
   "metadata": {
    "pycharm": {
     "name": "#%% md\n"
    }
   },
   "source": [
    "```json\n",
    "{\n",
    "    \"annotations\": [\n",
    "        {\n",
    "            \"id\": 0,\n",
    "            \"image_id\": 0,\n",
    "            \"category_id\": 2,\n",
    "            \"bbox\": [260, 177, 231, 199],\n",
    "            \"segmentation\": [[34.5, 37.8, ...], ...],\n",
    "            \"area\": 45969,\n",
    "            \"iscrowd\": 0\n",
    "        },\n",
    "        ...\n",
    "    ],\n",
    "    ...\n",
    "}\n",
    "```"
   ]
  },
  {
   "cell_type": "markdown",
   "metadata": {
    "pycharm": {
     "name": "#%% md\n"
    }
   },
   "source": [
    "<img src=\"jupyter_lab_images/coco_img2.png\" style=\"width: 600px; height: 400px;\">"
   ]
  }
 ],
 "metadata": {
  "kernelspec": {
   "display_name": "Python 3 (ipykernel)",
   "language": "python",
   "name": "python3"
  },
  "language_info": {
   "codemirror_mode": {
    "name": "ipython",
    "version": 3
   },
   "file_extension": ".py",
   "mimetype": "text/x-python",
   "name": "python",
   "nbconvert_exporter": "python",
   "pygments_lexer": "ipython3",
   "version": "3.8.6"
  }
 },
 "nbformat": 4,
 "nbformat_minor": 4
}