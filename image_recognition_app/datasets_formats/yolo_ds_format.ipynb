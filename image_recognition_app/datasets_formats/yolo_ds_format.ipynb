{
 "cells": [
  {
   "cell_type": "markdown",
   "metadata": {
    "pycharm": {
     "name": "#%% md\n"
    }
   },
   "source": [
    "# Analýza formátu datasetu YOLO\n",
    "YOLO (You Only Look Once) je detekčný systém počítačového videnia. Vďaka jeho vysokej rýchlosti pri vyhodnocovaní je využívaný najmä pri detekcii objektov vo video-záznamoch. YOLO na trénovanie a validáciu využíva rovnomenný proprietárny formát datasetu YOLO. Súčasná najnovšia iterácia tejto technológie má označenie YOLOv5. Jej autorom je Glenn Jocher."
   ]
  },
  {
   "cell_type": "markdown",
   "metadata": {
    "pycharm": {
     "name": "#%% md\n"
    }
   },
   "source": [
    "---\n",
    "## YOLO formát:\n",
    "Formát datasetu YOLO sa stal štandardom pre všetky iterácie detekčného systému YOLO (v1 - v5). Dataset obsahuje samotné dáta a informácie o dátach (obrázkoch) sú uchované jednotlivo v špecifickej štruktúre v textovom súbore typu .txt pre každý obrázok zvlášt. Textový súbor s touto štruktúrou určuje ako sa ukladajú štítky (label) a metadáta pre množinu obrázkov konkrétneho datasetu.\n",
    "\n",
    "Priečinok datasetu YOLO formátu má nasledovnú štruktúru:"
   ]
  },
  {
   "cell_type": "markdown",
   "metadata": {
    "pycharm": {
     "name": "#%% md\n"
    }
   },
   "source": [
    "```\n",
    "dataset\n",
    "│   classes.txt\n",
    "│\n",
    "│───labels\n",
    "│       image_filename1.txt\n",
    "│       image_filename2.txt\n",
    "│       ...\n",
    "│\n",
    "└───images\n",
    "       image_filename1.jpg\n",
    "       image_filename2.jpg\n",
    "       ...\n",
    "```"
   ]
  },
  {
   "cell_type": "markdown",
   "metadata": {
    "pycharm": {
     "name": "#%% md\n"
    }
   },
   "source": [
    "---\n",
    "## Štruktúra textového súboru .txt:\n",
    "Textové súbory datasetu vo formáte YOLO v sebe obsahujú informácie o objektoch, ktoré sa nachádzajú na obrázku, ku ktorému daný textový súbor prislúcha. Textový súbor musí niesť __rovnaké meno, ako jemu príslušný obrázok__, nakoľko je to jediný identifikátor prislušnosti.\n",
    "\n",
    "Textový súbor má nasledovnú štruktúru:\n",
    "* __<span style=\"color: blue;\">class </span>__ __(povinný):__\n",
    "Reprezetuje číselný index, ktorý je viazaný na konkrétnu triedu daného detekovaného objektu.\n",
    "* __<span style=\"color: blue;\">x-center </span>__ __(povinný):__\n",
    "Reprezentuje __x-ovú súradnicu bodu__, od ktorého je vertikálne a horizontálne pripočítavaná __výška__ a __šírka__ k hranám ohraničujúceho boxu (bounding box).\n",
    "* __<span style=\"color: blue;\">y-center </span>__ __(povinný):__\n",
    "Reprezentuje __y-ovú súradnicu bodu__, od ktorého je vertikálne a horizontálne pripočítavaná/odpočítavaná výška a šírka k hranám ohraničujúceho boxu (bounding box).\n",
    "* __<span style=\"color: blue;\">width </span>__ __(povinný):__\n",
    "Reprezentuje __šírku__, ktorá je horizontálne pripočítavaná/odpočítavaná k stredovémmu bodu na dosiahnutie ľavej a pravej hrany ohraničujúceho boxu (bounding box).\n",
    "* __<span style=\"color: blue;\">height </span>__ __(povinný):__\n",
    "Reprezentuje __výšku__, ktorá je vertikálne pripočítavaná/odpočítavaná k stredovémmu bodu na dosiahnutie hornej a dolnej hrany ohraničujúceho boxu (bounding box).\n"
   ]
  },
  {
   "cell_type": "markdown",
   "metadata": {
    "pycharm": {
     "name": "#%% md\n"
    }
   },
   "source": [
    "<span style=\"color: blue;\">class </span>| <span style=\"color: blue;\">x-center </span>| <span style=\"color: blue;\">y-center </span>| <span style=\"color: blue;\">width </span>| <span style=\"color: blue;\">height</span>\n",
    "```code\n",
    "0 0.48 0.63 0.69 0.71\n",
    "0 0.74 0.52 0.31 0.93\n",
    "2 0.79 0.51 0.04 0.15\n",
    "```"
   ]
  },
  {
   "cell_type": "markdown",
   "metadata": {
    "pycharm": {
     "name": "#%% md\n"
    }
   },
   "source": [
    "<img src=\"jupyter_lab_images/yolo_img1.png\" style=\"width: 600px; height: 400px\">"
   ]
  }
 ],
 "metadata": {
  "kernelspec": {
   "display_name": "Python 3 (ipykernel)",
   "language": "python",
   "name": "python3"
  },
  "language_info": {
   "codemirror_mode": {
    "name": "ipython",
    "version": 3
   },
   "file_extension": ".py",
   "mimetype": "text/x-python",
   "name": "python",
   "nbconvert_exporter": "python",
   "pygments_lexer": "ipython3",
   "version": "3.8.6"
  }
 },
 "nbformat": 4,
 "nbformat_minor": 4
}